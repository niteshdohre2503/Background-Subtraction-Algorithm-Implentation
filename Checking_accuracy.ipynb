{
 "cells": [
  {
   "cell_type": "code",
   "execution_count": 12,
   "metadata": {},
   "outputs": [
    {
     "ename": "IndexError",
     "evalue": "tuple index out of range",
     "output_type": "error",
     "traceback": [
      "\u001b[1;31m---------------------------------------------------------------------------\u001b[0m",
      "\u001b[1;31mIndexError\u001b[0m                                Traceback (most recent call last)",
      "Cell \u001b[1;32mIn [12], line 28\u001b[0m\n\u001b[0;32m     25\u001b[0m my_output_frame \u001b[38;5;241m=\u001b[39m np\u001b[38;5;241m.\u001b[39marray(my_output_frame)\n\u001b[0;32m     26\u001b[0m ground_output_frame \u001b[38;5;241m=\u001b[39m np\u001b[38;5;241m.\u001b[39marray(ground_output_frame)\n\u001b[1;32m---> 28\u001b[0m rows \u001b[38;5;241m=\u001b[39m\u001b[43mground_output_frame\u001b[49m\u001b[38;5;241;43m.\u001b[39;49m\u001b[43mshape\u001b[49m\u001b[43m[\u001b[49m\u001b[38;5;241;43m1\u001b[39;49m\u001b[43m]\u001b[49m\n\u001b[0;32m     29\u001b[0m cols \u001b[38;5;241m=\u001b[39mground_output_frame\u001b[38;5;241m.\u001b[39mshape[\u001b[38;5;241m2\u001b[39m]\n\u001b[0;32m     30\u001b[0m precision\u001b[38;5;241m=\u001b[39m\u001b[38;5;241m0\u001b[39m\n",
      "\u001b[1;31mIndexError\u001b[0m: tuple index out of range"
     ]
    }
   ],
   "source": [
    "import numpy as np\n",
    "import matplotlib.pyplot as plt\n",
    "import cv2\n",
    "from math import exp\n",
    "import os\n",
    "list_of_images = os.listdir(\"C:\\\\Users\\\\win-10\\\\Downloads\\\\Computer Vision Assignment\\\\HallAndMonitor\\\\output/\")\n",
    "list_of_images.sort()\n",
    "my_output_frame = []\n",
    "idx = 0\n",
    "\n",
    "for i in list_of_images:\n",
    "    p = cv2.imread(f\"C:\\\\Users\\\\win-10\\\\Downloads\\\\Computer Vision Assignment\\\\HallAndMonitor\\\\output/{i}\")\n",
    "    my_output_frame.append(p)\n",
    "    \n",
    "#ground truth\n",
    "list_of_images = os.listdir(\"C:\\\\Users\\\\win-10\\\\Downloads\\\\Computer Vision Assignment\\\\HallAndMonitor\\\\output/\")\n",
    "list_of_images.sort()\n",
    "ground_output_frame = []\n",
    "idx = 0\n",
    "\n",
    "for i in list_of_images:\n",
    "    p = cv2.imread(f\"C:\\\\Users\\\\win-10\\\\Downloads\\\\Computer Vision Assignment\\\\HallAndMonitor\\\\groundtruth/{i}\")\n",
    "    ground_output_frame.append(p)\n",
    "    \n",
    "my_output_frame = np.array(my_output_frame)\n",
    "ground_output_frame = np.array(ground_output_frame)\n",
    "    \n",
    "rows =ground_output_frame.shape[1]\n",
    "cols =ground_output_frame.shape[2]\n",
    "precision=0\n",
    "precision_count = len(list_of_images)-4\n",
    "recall =0 \n",
    "recall_count = len(list_of_images)-4\n",
    "accuracy=0\n",
    "for frame in range(3,len(list_of_images)-1): # looping through the frames\n",
    "    TP=0\n",
    "    TN=0\n",
    "    FP=0\n",
    "    FN=0\n",
    "    for i in range(0,rows):      # looping through the rows in the frame\n",
    "        for j in range(0,cols):\n",
    "            if(ground_output_frame[frame][i][j][0]==0 and  my_output_frame[frame][i][j][0]==0):\n",
    "                TN+=1\n",
    "            elif(ground_output_frame[frame][i][j][0]>0 and  my_output_frame[frame][i][j][0]>0):\n",
    "                TP+=1\n",
    "            elif(ground_output_frame[frame][i][j][0]==0 and  my_output_frame[frame][i][j][0]>0):\n",
    "                FP+=1\n",
    "            elif(ground_output_frame[frame][i][j][0]>0 and  my_output_frame[frame][i][j][0]==0):\n",
    "                FN+=1\n",
    "    if(TP+FP>0):    \n",
    "        precision+=(TP/(TP+FP))\n",
    "    else:\n",
    "        precision_count-=1\n",
    "    if(TP+FN>0):    \n",
    "        recall+=(TP/(TP+FN))\n",
    "    else:\n",
    "        recall_count-=1    \n",
    "    accuracy+=((TP+TN)/(TP+FP+TN+FN))\n",
    "precision=precision/precision_count\n",
    "recall=recall/recall_count\n",
    "accuracy=accuracy/(len(list_of_images)-4)\n",
    "print(\"accuracy :\", accuracy)\n",
    "print(\"recall :\", recall)\n",
    "print(\"precision :\", precision)\n"
   ]
  },
  {
   "cell_type": "code",
   "execution_count": null,
   "metadata": {},
   "outputs": [],
   "source": []
  },
  {
   "cell_type": "code",
   "execution_count": null,
   "metadata": {},
   "outputs": [],
   "source": []
  }
 ],
 "metadata": {
  "kernelspec": {
   "display_name": "Python 3",
   "language": "python",
   "name": "python3"
  },
  "language_info": {
   "codemirror_mode": {
    "name": "ipython",
    "version": 3
   },
   "file_extension": ".py",
   "mimetype": "text/x-python",
   "name": "python",
   "nbconvert_exporter": "python",
   "pygments_lexer": "ipython3",
   "version": "3.7.6"
  }
 },
 "nbformat": 4,
 "nbformat_minor": 5
}
