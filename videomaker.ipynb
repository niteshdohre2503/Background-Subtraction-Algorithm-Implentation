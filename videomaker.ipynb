{
 "cells": [
  {
   "cell_type": "code",
   "execution_count": 6,
   "id": "4f88fd9e",
   "metadata": {},
   "outputs": [],
   "source": [
    "import cv2\n",
    "import os\n",
    "import re\n",
    "import numpy as np\n",
    "\n",
    "# Set the input path where your PNG images are located\n",
    "input_path = \"C:\\\\Users\\\\win-10\\\\Downloads\\\\Computer Vision Assignment\\\\HighwayI\\\\output/\"\n",
    "\n",
    "# Set the output path where you want to save the video\n",
    "output_path = \"C:\\\\Users\\\\win-10\\\\Downloads\\\\Computer Vision Assignment\\\\HighwayI\\\\HighwayI.avi\"\n",
    "\n",
    "# Set the frame rate for the video\n",
    "frame_rate = 15.0\n",
    "\n",
    "# Get a list of all the PNG images in the input path\n",
    "images = [img for img in os.listdir(input_path) if img.endswith(\".png\")]\n",
    "\n",
    "# Sort the images in order\n",
    "# Extract the number part of the image names\n",
    "image_numbers = [int(re.findall(r'\\d+', name)[0]) for name in images]\n",
    "\n",
    "# Get the sorted indices of the images based on their numbers\n",
    "sorted_indices = np.argsort(image_numbers)\n",
    "\n",
    "# Sort the image names based on their numbers\n",
    "sorted_image_names = [images[i] for i in sorted_indices]\n",
    "images=sorted_image_names\n",
    "\n",
    "# Get the dimensions of the first image to set the video dimensions\n",
    "frame = cv2.imread(os.path.join(input_path, images[0]))\n",
    "height, width, channels = frame.shape\n",
    "\n",
    "# Set up the video writer\n",
    "fourcc = cv2.VideoWriter_fourcc(*'XVID')\n",
    "out = cv2.VideoWriter(output_path, fourcc, frame_rate, (width, height))\n",
    "\n",
    "# Loop through each image and write it to the video\n",
    "for image in images:\n",
    "    image_path = os.path.join(input_path, image)\n",
    "    frame = cv2.imread(image_path)\n",
    "    out.write(frame)\n",
    "\n",
    "# Release the video writer\n",
    "out.release()"
   ]
  },
  {
   "cell_type": "code",
   "execution_count": null,
   "id": "fa2e30f6",
   "metadata": {},
   "outputs": [],
   "source": []
  }
 ],
 "metadata": {
  "kernelspec": {
   "display_name": "Python 3 (ipykernel)",
   "language": "python",
   "name": "python3"
  },
  "language_info": {
   "codemirror_mode": {
    "name": "ipython",
    "version": 3
   },
   "file_extension": ".py",
   "mimetype": "text/x-python",
   "name": "python",
   "nbconvert_exporter": "python",
   "pygments_lexer": "ipython3",
   "version": "3.10.7"
  }
 },
 "nbformat": 4,
 "nbformat_minor": 5
}
