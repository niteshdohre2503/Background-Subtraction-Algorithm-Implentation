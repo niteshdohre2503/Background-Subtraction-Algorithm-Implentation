{
 "cells": [
  {
   "cell_type": "code",
   "execution_count": 5,
   "id": "03d6cfb2",
   "metadata": {},
   "outputs": [
    {
     "ename": "AttributeError",
     "evalue": "'NoneType' object has no attribute 'transpose'",
     "output_type": "error",
     "traceback": [
      "\u001b[1;31m---------------------------------------------------------------------------\u001b[0m",
      "\u001b[1;31mAttributeError\u001b[0m                            Traceback (most recent call last)",
      "Cell \u001b[1;32mIn [5], line 16\u001b[0m\n\u001b[0;32m     13\u001b[0m idx \u001b[38;5;241m=\u001b[39m \u001b[38;5;241m0\u001b[39m\n\u001b[0;32m     15\u001b[0m \u001b[38;5;28;01mfor\u001b[39;00m i \u001b[38;5;129;01min\u001b[39;00m list_of_images:\n\u001b[1;32m---> 16\u001b[0m     p \u001b[38;5;241m=\u001b[39m \u001b[43mcv2\u001b[49m\u001b[38;5;241;43m.\u001b[39;49m\u001b[43mimread\u001b[49m\u001b[43m(\u001b[49m\u001b[38;5;124;43mf\u001b[39;49m\u001b[38;5;124;43m\"\u001b[39;49m\u001b[38;5;124;43mD:\u001b[39;49m\u001b[38;5;130;43;01m\\\\\u001b[39;49;00m\u001b[38;5;124;43mMtech 2022-24\u001b[39;49m\u001b[38;5;130;43;01m\\\\\u001b[39;49;00m\u001b[38;5;124;43mSemester 2\u001b[39;49m\u001b[38;5;130;43;01m\\\\\u001b[39;49;00m\u001b[38;5;124;43mComputer Vision Assignment\u001b[39;49m\u001b[38;5;130;43;01m\\\\\u001b[39;49;00m\u001b[38;5;124;43mAssignment1\u001b[39;49m\u001b[38;5;130;43;01m\\\\\u001b[39;49;00m\u001b[38;5;124;43mcropped/\u001b[39;49m\u001b[38;5;132;43;01m{\u001b[39;49;00m\u001b[43mi\u001b[49m\u001b[38;5;132;43;01m}\u001b[39;49;00m\u001b[38;5;124;43m\"\u001b[39;49m\u001b[43m)\u001b[49m\u001b[38;5;241;43m.\u001b[39;49m\u001b[43mtranspose\u001b[49m()\n\u001b[0;32m     17\u001b[0m     frame_matrix\u001b[38;5;241m.\u001b[39mappend(p)\n\u001b[0;32m     19\u001b[0m frame_matrix \u001b[38;5;241m=\u001b[39m np\u001b[38;5;241m.\u001b[39marray(frame_matrix)\n",
      "\u001b[1;31mAttributeError\u001b[0m: 'NoneType' object has no attribute 'transpose'"
     ]
    }
   ],
   "source": [
    "#Non-parametric Model for Background Subtraction\n",
    "\n",
    "import numpy as np\n",
    "import matplotlib.pyplot as plt\n",
    "import cv2\n",
    "from math import exp\n",
    "import os\n",
    "\n",
    "#setting input path\n",
    "list_of_images = os.listdir(\"D:\\\\Mtech 2022-24\\\\Semester 2\\\\Computer Vision Assignment\\\\Assignment1\\\\cropped/\")\n",
    "list_of_images.sort()\n",
    "frame_matrix = []\n",
    "idx = 0\n",
    "\n",
    "for i in list_of_images:\n",
    "    p = cv2.imread(f\"D:\\\\Mtech 2022-24\\\\Semester 2\\\\Computer Vision Assignment\\\\Assignment1\\\\cropped/{i}\").transpose()\n",
    "    frame_matrix.append(p)\n",
    "    \n",
    "frame_matrix = np.array(frame_matrix)\n",
    "th = 0.04\n",
    "#Constants\n",
    "#shape[0] gives no. of frames ,shape[1] gives no. of colors\n",
    "#shape[2] gives no. of rows,  shape[3] gives no. of coloums\n",
    "\n",
    "frame_size = frame_matrix.shape[0]\n",
    "height = frame_matrix.shape[2]\n",
    "width = frame_matrix.shape[3]\n",
    "\n",
    "#resoltution of output frames \n",
    "res = np.zeros((height, width))\n",
    "#Variable constants\n",
    "\n",
    "\n",
    "for frame in range(1,frame_size):\n",
    "    for i in range(0,height):\n",
    "        for j in range(0,width):\n",
    "            # we are checking intensity of each color for each pixel\n",
    "            sigma = (0.8 / frame)**(3/7)\n",
    "            inmult = 2*(sigma**2)\n",
    "            outmult = 1/(frame*((2*np.pi)**(3/2))*sigma)\n",
    "            red=frame_matrix[:frame,0,i,j]/100\n",
    "            green=frame_matrix[:frame,1,i,j]/100\n",
    "            blue=frame_matrix[:frame,2,i,j]/100\n",
    "            \n",
    "             #setting decaying rate 1 percentage, i.e. 99% stable input file\n",
    "            alpha = 0.01 \n",
    "        # I_new = alpha*I_old + (1-alpha)*I_curr   \n",
    "        \n",
    "        # setting new intensity at each pixel for all colors\n",
    "        \n",
    "            for dec_weight in range(1, frame):\n",
    "                red[dec_weight]=alpha*red[dec_weight-1] + (1-alpha)*red[dec_weight]\n",
    "                green[dec_weight]=alpha*green[dec_weight-1] + (1-alpha)*green[dec_weight]\n",
    "                blue[dec_weight]=alpha*blue[dec_weight-1] + (1-alpha)*blue[dec_weight]\n",
    "            \n",
    "            temp=outmult * np.sum(np.exp(-1*((red-red[frame-1])**2 + (blue-blue[frame-1])**2 + (green-green[frame-1])**2)/inmult)) \n",
    "            res[i][j] = temp\n",
    "            if(res[i][j]>=th):\n",
    "                res[i][j]=1\n",
    "           # res[i][j] = np.where(temp >= th, 1, temp)\n",
    "                \n",
    "    a = (1-res).transpose() * 255\n",
    "    img = a\n",
    "    cv2.imwrite(f\"D:\\\\Mtech 2022-24\\\\Semester 2\\\\Computer Vision Assignment\\\\Assignment1\\\\cropped//output/{idx}.png\",img)\n",
    "    idx+=1"
   ]
  },
  {
   "cell_type": "code",
   "execution_count": null,
   "id": "b80f8180",
   "metadata": {},
   "outputs": [],
   "source": []
  },
  {
   "cell_type": "code",
   "execution_count": null,
   "id": "512229be",
   "metadata": {},
   "outputs": [],
   "source": []
  },
  {
   "cell_type": "code",
   "execution_count": null,
   "id": "3779e0e1",
   "metadata": {},
   "outputs": [],
   "source": []
  }
 ],
 "metadata": {
  "kernelspec": {
   "display_name": "Python 3 (ipykernel)",
   "language": "python",
   "name": "python3"
  },
  "language_info": {
   "codemirror_mode": {
    "name": "ipython",
    "version": 3
   },
   "file_extension": ".py",
   "mimetype": "text/x-python",
   "name": "python",
   "nbconvert_exporter": "python",
   "pygments_lexer": "ipython3",
   "version": "3.10.7"
  }
 },
 "nbformat": 4,
 "nbformat_minor": 5
}
